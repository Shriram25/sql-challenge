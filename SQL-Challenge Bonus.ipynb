{
 "cells": [
  {
   "cell_type": "code",
   "execution_count": 1,
   "metadata": {},
   "outputs": [],
   "source": [
    "#//import dependencies\n",
    "import pandas as pd \n",
    "from sqlalchemy import create_engine"
   ]
  },
  {
   "cell_type": "code",
   "execution_count": 4,
   "metadata": {},
   "outputs": [],
   "source": [
    "#create_engine to connect to database\n",
    "engine = create_engine('postgresql://localhost:5432/HP')\n",
    "connection = engine.connect()"
   ]
  },
  {
   "cell_type": "code",
   "execution_count": 9,
   "metadata": {},
   "outputs": [
    {
     "data": {
      "text/html": [
       "<div>\n",
       "<style scoped>\n",
       "    .dataframe tbody tr th:only-of-type {\n",
       "        vertical-align: middle;\n",
       "    }\n",
       "\n",
       "    .dataframe tbody tr th {\n",
       "        vertical-align: top;\n",
       "    }\n",
       "\n",
       "    .dataframe thead th {\n",
       "        text-align: right;\n",
       "    }\n",
       "</style>\n",
       "<table border=\"1\" class=\"dataframe\">\n",
       "  <thead>\n",
       "    <tr style=\"text-align: right;\">\n",
       "      <th></th>\n",
       "      <th>emp_no</th>\n",
       "      <th>emp_title_id</th>\n",
       "      <th>birth_date</th>\n",
       "      <th>first_name</th>\n",
       "      <th>last_name</th>\n",
       "      <th>sex</th>\n",
       "      <th>hire_date</th>\n",
       "    </tr>\n",
       "  </thead>\n",
       "  <tbody>\n",
       "    <tr>\n",
       "      <td>0</td>\n",
       "      <td>473302</td>\n",
       "      <td>s0001</td>\n",
       "      <td>1953-07-25</td>\n",
       "      <td>Hideyuki</td>\n",
       "      <td>Zallocco</td>\n",
       "      <td>M</td>\n",
       "      <td>1990-04-28</td>\n",
       "    </tr>\n",
       "    <tr>\n",
       "      <td>1</td>\n",
       "      <td>475053</td>\n",
       "      <td>e0002</td>\n",
       "      <td>1954-11-18</td>\n",
       "      <td>Byong</td>\n",
       "      <td>Delgrande</td>\n",
       "      <td>F</td>\n",
       "      <td>1991-09-07</td>\n",
       "    </tr>\n",
       "    <tr>\n",
       "      <td>2</td>\n",
       "      <td>57444</td>\n",
       "      <td>e0002</td>\n",
       "      <td>1958-01-30</td>\n",
       "      <td>Berry</td>\n",
       "      <td>Babb</td>\n",
       "      <td>F</td>\n",
       "      <td>1992-03-21</td>\n",
       "    </tr>\n",
       "    <tr>\n",
       "      <td>3</td>\n",
       "      <td>421786</td>\n",
       "      <td>s0001</td>\n",
       "      <td>1957-09-28</td>\n",
       "      <td>Xiong</td>\n",
       "      <td>Verhoeff</td>\n",
       "      <td>M</td>\n",
       "      <td>1987-11-26</td>\n",
       "    </tr>\n",
       "    <tr>\n",
       "      <td>4</td>\n",
       "      <td>282238</td>\n",
       "      <td>e0003</td>\n",
       "      <td>1952-10-28</td>\n",
       "      <td>Abdelkader</td>\n",
       "      <td>Baumann</td>\n",
       "      <td>F</td>\n",
       "      <td>1991-01-18</td>\n",
       "    </tr>\n",
       "    <tr>\n",
       "      <td>...</td>\n",
       "      <td>...</td>\n",
       "      <td>...</td>\n",
       "      <td>...</td>\n",
       "      <td>...</td>\n",
       "      <td>...</td>\n",
       "      <td>...</td>\n",
       "      <td>...</td>\n",
       "    </tr>\n",
       "    <tr>\n",
       "      <td>300019</td>\n",
       "      <td>464231</td>\n",
       "      <td>s0001</td>\n",
       "      <td>1958-08-14</td>\n",
       "      <td>Constantino</td>\n",
       "      <td>Eastman</td>\n",
       "      <td>M</td>\n",
       "      <td>1988-10-28</td>\n",
       "    </tr>\n",
       "    <tr>\n",
       "      <td>300020</td>\n",
       "      <td>255832</td>\n",
       "      <td>e0002</td>\n",
       "      <td>1955-05-08</td>\n",
       "      <td>Yuping</td>\n",
       "      <td>Dayang</td>\n",
       "      <td>F</td>\n",
       "      <td>1995-02-26</td>\n",
       "    </tr>\n",
       "    <tr>\n",
       "      <td>300021</td>\n",
       "      <td>76671</td>\n",
       "      <td>s0001</td>\n",
       "      <td>1959-06-09</td>\n",
       "      <td>Ortrud</td>\n",
       "      <td>Plessier</td>\n",
       "      <td>M</td>\n",
       "      <td>1988-02-24</td>\n",
       "    </tr>\n",
       "    <tr>\n",
       "      <td>300022</td>\n",
       "      <td>264920</td>\n",
       "      <td>s0001</td>\n",
       "      <td>1959-09-22</td>\n",
       "      <td>Percy</td>\n",
       "      <td>Samarati</td>\n",
       "      <td>F</td>\n",
       "      <td>1994-09-08</td>\n",
       "    </tr>\n",
       "    <tr>\n",
       "      <td>300023</td>\n",
       "      <td>464503</td>\n",
       "      <td>s0002</td>\n",
       "      <td>1964-05-31</td>\n",
       "      <td>Arvind</td>\n",
       "      <td>Slobodova</td>\n",
       "      <td>M</td>\n",
       "      <td>1987-11-23</td>\n",
       "    </tr>\n",
       "  </tbody>\n",
       "</table>\n",
       "<p>300024 rows × 7 columns</p>\n",
       "</div>"
      ],
      "text/plain": [
       "        emp_no emp_title_id birth_date   first_name  last_name sex  hire_date\n",
       "0       473302        s0001 1953-07-25     Hideyuki   Zallocco   M 1990-04-28\n",
       "1       475053        e0002 1954-11-18        Byong  Delgrande   F 1991-09-07\n",
       "2        57444        e0002 1958-01-30        Berry       Babb   F 1992-03-21\n",
       "3       421786        s0001 1957-09-28        Xiong   Verhoeff   M 1987-11-26\n",
       "4       282238        e0003 1952-10-28   Abdelkader    Baumann   F 1991-01-18\n",
       "...        ...          ...        ...          ...        ...  ..        ...\n",
       "300019  464231        s0001 1958-08-14  Constantino    Eastman   M 1988-10-28\n",
       "300020  255832        e0002 1955-05-08       Yuping     Dayang   F 1995-02-26\n",
       "300021   76671        s0001 1959-06-09       Ortrud   Plessier   M 1988-02-24\n",
       "300022  264920        s0001 1959-09-22        Percy   Samarati   F 1994-09-08\n",
       "300023  464503        s0002 1964-05-31       Arvind  Slobodova   M 1987-11-23\n",
       "\n",
       "[300024 rows x 7 columns]"
      ]
     },
     "execution_count": 9,
     "metadata": {},
     "output_type": "execute_result"
    }
   ],
   "source": [
    "#//Read Employees Data From SQL table\n",
    "\n",
    "df = pd.read_sql_table(\"employees\",engine)\n",
    "df"
   ]
  },
  {
   "cell_type": "code",
   "execution_count": 48,
   "metadata": {},
   "outputs": [
    {
     "data": {
      "text/html": [
       "<div>\n",
       "<style scoped>\n",
       "    .dataframe tbody tr th:only-of-type {\n",
       "        vertical-align: middle;\n",
       "    }\n",
       "\n",
       "    .dataframe tbody tr th {\n",
       "        vertical-align: top;\n",
       "    }\n",
       "\n",
       "    .dataframe thead th {\n",
       "        text-align: right;\n",
       "    }\n",
       "</style>\n",
       "<table border=\"1\" class=\"dataframe\">\n",
       "  <thead>\n",
       "    <tr style=\"text-align: right;\">\n",
       "      <th></th>\n",
       "      <th>emp_no</th>\n",
       "      <th>last_name</th>\n",
       "      <th>first_name</th>\n",
       "      <th>sex</th>\n",
       "      <th>emp_title_id</th>\n",
       "      <th>salary</th>\n",
       "    </tr>\n",
       "  </thead>\n",
       "  <tbody>\n",
       "    <tr>\n",
       "      <td>0</td>\n",
       "      <td>10005</td>\n",
       "      <td>Maliniak</td>\n",
       "      <td>Kyoichi</td>\n",
       "      <td>M</td>\n",
       "      <td>s0001</td>\n",
       "      <td>78228</td>\n",
       "    </tr>\n",
       "    <tr>\n",
       "      <td>1</td>\n",
       "      <td>10010</td>\n",
       "      <td>Piveteau</td>\n",
       "      <td>Duangkaew</td>\n",
       "      <td>F</td>\n",
       "      <td>e0002</td>\n",
       "      <td>72488</td>\n",
       "    </tr>\n",
       "    <tr>\n",
       "      <td>2</td>\n",
       "      <td>10011</td>\n",
       "      <td>Sluis</td>\n",
       "      <td>Mary</td>\n",
       "      <td>F</td>\n",
       "      <td>s0001</td>\n",
       "      <td>42365</td>\n",
       "    </tr>\n",
       "    <tr>\n",
       "      <td>3</td>\n",
       "      <td>10013</td>\n",
       "      <td>Terkki</td>\n",
       "      <td>Eberhardt</td>\n",
       "      <td>M</td>\n",
       "      <td>s0002</td>\n",
       "      <td>40000</td>\n",
       "    </tr>\n",
       "    <tr>\n",
       "      <td>4</td>\n",
       "      <td>10017</td>\n",
       "      <td>Bouloucos</td>\n",
       "      <td>Cristinel</td>\n",
       "      <td>F</td>\n",
       "      <td>s0001</td>\n",
       "      <td>71380</td>\n",
       "    </tr>\n",
       "    <tr>\n",
       "      <td>...</td>\n",
       "      <td>...</td>\n",
       "      <td>...</td>\n",
       "      <td>...</td>\n",
       "      <td>...</td>\n",
       "      <td>...</td>\n",
       "      <td>...</td>\n",
       "    </tr>\n",
       "    <tr>\n",
       "      <td>300019</td>\n",
       "      <td>499948</td>\n",
       "      <td>Paludetto</td>\n",
       "      <td>Cordelia</td>\n",
       "      <td>M</td>\n",
       "      <td>e0002</td>\n",
       "      <td>40000</td>\n",
       "    </tr>\n",
       "    <tr>\n",
       "      <td>300020</td>\n",
       "      <td>499972</td>\n",
       "      <td>Leuchs</td>\n",
       "      <td>Katsuo</td>\n",
       "      <td>F</td>\n",
       "      <td>e0003</td>\n",
       "      <td>41002</td>\n",
       "    </tr>\n",
       "    <tr>\n",
       "      <td>300021</td>\n",
       "      <td>499985</td>\n",
       "      <td>Lukaszewicz</td>\n",
       "      <td>Gila</td>\n",
       "      <td>M</td>\n",
       "      <td>s0001</td>\n",
       "      <td>40000</td>\n",
       "    </tr>\n",
       "    <tr>\n",
       "      <td>300022</td>\n",
       "      <td>499987</td>\n",
       "      <td>Dusink</td>\n",
       "      <td>Rimli</td>\n",
       "      <td>F</td>\n",
       "      <td>s0001</td>\n",
       "      <td>52282</td>\n",
       "    </tr>\n",
       "    <tr>\n",
       "      <td>300023</td>\n",
       "      <td>499998</td>\n",
       "      <td>Breugel</td>\n",
       "      <td>Patricia</td>\n",
       "      <td>M</td>\n",
       "      <td>s0001</td>\n",
       "      <td>40000</td>\n",
       "    </tr>\n",
       "  </tbody>\n",
       "</table>\n",
       "<p>300024 rows × 6 columns</p>\n",
       "</div>"
      ],
      "text/plain": [
       "        emp_no    last_name first_name sex emp_title_id  salary\n",
       "0        10005     Maliniak    Kyoichi   M        s0001   78228\n",
       "1        10010     Piveteau  Duangkaew   F        e0002   72488\n",
       "2        10011        Sluis       Mary   F        s0001   42365\n",
       "3        10013       Terkki  Eberhardt   M        s0002   40000\n",
       "4        10017    Bouloucos  Cristinel   F        s0001   71380\n",
       "...        ...          ...        ...  ..          ...     ...\n",
       "300019  499948    Paludetto   Cordelia   M        e0002   40000\n",
       "300020  499972       Leuchs     Katsuo   F        e0003   41002\n",
       "300021  499985  Lukaszewicz       Gila   M        s0001   40000\n",
       "300022  499987       Dusink      Rimli   F        s0001   52282\n",
       "300023  499998      Breugel   Patricia   M        s0001   40000\n",
       "\n",
       "[300024 rows x 6 columns]"
      ]
     },
     "execution_count": 48,
     "metadata": {},
     "output_type": "execute_result"
    }
   ],
   "source": [
    "#Build a query to join salaries and employees, \n",
    "\n",
    "query='''\n",
    "select employees.emp_no,employees.last_name,employees.first_name,employees.sex,employees.emp_title_id,(salaries.salary) \n",
    "\tfrom employees \n",
    "\tinner join salaries \n",
    "\ton salaries.emp_no = employees.emp_no\n",
    "    '''\n",
    "# execute the query and read it into a dataframe\n",
    "df = pd.read_sql_query(query,engine)\n",
    "df"
   ]
  },
  {
   "cell_type": "code",
   "execution_count": 18,
   "metadata": {},
   "outputs": [
    {
     "data": {
      "text/plain": [
       "array([[<matplotlib.axes._subplots.AxesSubplot object at 0x7fb1c19f9890>]],\n",
       "      dtype=object)"
      ]
     },
     "execution_count": 18,
     "metadata": {},
     "output_type": "execute_result"
    },
    {
     "data": {
      "image/png": "[encoded data removed]",
      "text/plain": [
       "<Figure size 432x288 with 1 Axes>"
      ]
     },
     "metadata": {
      "needs_background": "light"
     },
     "output_type": "display_data"
    }
   ],
   "source": [
    "#Plot Histogram of Salary\n",
    "df.hist(column='salary')"
   ]
  },
  {
   "cell_type": "code",
   "execution_count": 29,
   "metadata": {},
   "outputs": [
    {
     "data": {
      "text/plain": [
       "<pandas.core.groupby.generic.DataFrameGroupBy object at 0x7fb1c2e99a50>"
      ]
     },
     "execution_count": 29,
     "metadata": {},
     "output_type": "execute_result"
    }
   ],
   "source": [
    "\n",
    "#Group the dataframe by title_id\n",
    "df.groupby('emp_title_id')"
   ]
  },
  {
   "cell_type": "code",
   "execution_count": 49,
   "metadata": {},
   "outputs": [],
   "source": [
    "\n",
    "#Group the data by employee title id\n",
    "df_grouped = df.groupby('emp_title_id')"
   ]
  },
  {
   "cell_type": "code",
   "execution_count": 50,
   "metadata": {},
   "outputs": [],
   "source": [
    "#Find the average salary by title\n",
    "\n",
    "df_mean = df_grouped['salary'].mean()"
   ]
  },
  {
   "cell_type": "code",
   "execution_count": 52,
   "metadata": {},
   "outputs": [
    {
     "data": {
      "text/plain": [
       "<matplotlib.axes._subplots.AxesSubplot at 0x7fb1acbc4f50>"
      ]
     },
     "execution_count": 52,
     "metadata": {},
     "output_type": "execute_result"
    },
    {
     "data": {
      "image/png": "[encoded data removed]",
      "text/plain": [
       "<Figure size 432x288 with 1 Axes>"
      ]
     },
     "metadata": {
      "needs_background": "light"
     },
     "output_type": "display_data"
    }
   ],
   "source": [
    "#Plot the mean salary by title\n",
    "\n",
    "df_mean.plot.bar()"
   ]
  },
  {
   "cell_type": "code",
   "execution_count": 53,
   "metadata": {},
   "outputs": [
    {
     "data": {
      "text/html": [
       "<div>\n",
       "<style scoped>\n",
       "    .dataframe tbody tr th:only-of-type {\n",
       "        vertical-align: middle;\n",
       "    }\n",
       "\n",
       "    .dataframe tbody tr th {\n",
       "        vertical-align: top;\n",
       "    }\n",
       "\n",
       "    .dataframe thead th {\n",
       "        text-align: right;\n",
       "    }\n",
       "</style>\n",
       "<table border=\"1\" class=\"dataframe\">\n",
       "  <thead>\n",
       "    <tr style=\"text-align: right;\">\n",
       "      <th></th>\n",
       "      <th>emp_no</th>\n",
       "      <th>last_name</th>\n",
       "      <th>first_name</th>\n",
       "      <th>sex</th>\n",
       "      <th>emp_title_id</th>\n",
       "      <th>salary</th>\n",
       "    </tr>\n",
       "  </thead>\n",
       "  <tbody>\n",
       "    <tr>\n",
       "      <td>37455</td>\n",
       "      <td>499942</td>\n",
       "      <td>Foolsday</td>\n",
       "      <td>April</td>\n",
       "      <td>F</td>\n",
       "      <td>e0004</td>\n",
       "      <td>40000</td>\n",
       "    </tr>\n",
       "  </tbody>\n",
       "</table>\n",
       "</div>"
      ],
      "text/plain": [
       "       emp_no last_name first_name sex emp_title_id  salary\n",
       "37455  499942  Foolsday      April   F        e0004   40000"
      ]
     },
     "execution_count": 53,
     "metadata": {},
     "output_type": "execute_result"
    }
   ],
   "source": [
    "#Locate employee with employee number 499942\n",
    "df.loc[ df[\"emp_no\"]== 499942]"
   ]
  },
  {
   "cell_type": "code",
   "execution_count": null,
   "metadata": {},
   "outputs": [],
   "source": []
  }
 ],
 "metadata": {
  "kernelspec": {
   "display_name": "Python 3",
   "language": "python",
   "name": "python3"
  },
  "language_info": {
   "codemirror_mode": {
    "name": "ipython",
    "version": 3
   },
   "file_extension": ".py",
   "mimetype": "text/x-python",
   "name": "python",
   "nbconvert_exporter": "python",
   "pygments_lexer": "ipython3",
   "version": "3.7.4"
  }
 },
 "nbformat": 4,
 "nbformat_minor": 4
}
